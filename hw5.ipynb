{
  "nbformat": 4,
  "nbformat_minor": 0,
  "metadata": {
    "colab": {
      "provenance": [],
      "authorship_tag": "ABX9TyObjkTuZNTHG2H6DI6dyZ3d",
      "include_colab_link": true
    },
    "kernelspec": {
      "name": "python3",
      "display_name": "Python 3"
    },
    "language_info": {
      "name": "python"
    }
  },
  "cells": [
    {
      "cell_type": "markdown",
      "metadata": {
        "id": "view-in-github",
        "colab_type": "text"
      },
      "source": [
        "<a href=\"https://colab.research.google.com/github/Kishore4949/INF-502/blob/main/hw5.ipynb\" target=\"_parent\"><img src=\"https://colab.research.google.com/assets/colab-badge.svg\" alt=\"Open In Colab\"/></a>"
      ]
    },
    {
      "cell_type": "code",
      "source": [
        "def GDF(a, b): \n",
        "  # I am usinf if-else statement to check b==0. if the condition is true,, it returns a as the output\n",
        "  # if the conditon is wrong, else part is executed GDF function is called with a=b and b=remainder of a%b \n",
        "  if b == 0: \n",
        "      return a \n",
        "  else:\n",
        "      return GDF(b, a % b) "
      ],
      "metadata": {
        "id": "B_zbl_7nQkDR"
      },
      "execution_count": 21,
      "outputs": []
    },
    {
      "cell_type": "code",
      "source": [
        "def main():\n",
        "# Calling the Different GDF functions\n",
        "  print(GDF(48,30)) \n",
        "  print(GDF(3,43))\n",
        "  print(GDF(35,7))\n",
        "  print(GDF(63,9))\n",
        "\n",
        "\n",
        "main() "
      ],
      "metadata": {
        "colab": {
          "base_uri": "https://localhost:8080/"
        },
        "id": "q2u3-0jgRORI",
        "outputId": "4b1b75d5-6efa-462d-beee-7ce22380202a"
      },
      "execution_count": 22,
      "outputs": [
        {
          "output_type": "stream",
          "name": "stdout",
          "text": [
            "6\n",
            "1\n",
            "7\n",
            "9\n"
          ]
        }
      ]
    },
    {
      "cell_type": "markdown",
      "source": [
        "***Execution steps to the above Problem***\n",
        "\n",
        "\n",
        "*Explaing the GDF function:*\n",
        "\n",
        "1. GDF function consists of two varaiables a and b\n",
        "2. Checking the b value is 0 or not. if it is Zero then it returns \"a\" as an output\n",
        "3. if the b value is not 0. it will execute else part. GDF function calls with a=b and b= remainder of a%b.\n",
        "\n",
        "Example for *GDF(3, 43):*\n",
        "\n",
        "1. from main, function GDF(3, 43) is called.\n",
        "2. Now, a = 3 and b = 43. It checks with if-else statement. Here, b != 0. it executes else part here a = b and b = remainder of a%b, **GDF(43, 3) is called**. a= 43 and b = 3 i.e, (3/43=0 remainder is 3)\n",
        "3. GDF(43, 3) is called\n",
        "4. Here, a = 43 and b = 3. It checks with if-else statement. Here, b != 0. it executes else part here a = b and b = remainder of a%b, **GDF(3, 1) is called**. a= 3 and b = 1 i.e, (43/3=14 remainder is 1)\n",
        "5. GDF(3, 1) is called\n",
        "6. Here, a = 3 and b = 1. It checks with if-else statement. Here, b != 0. it executes else part here a = b and b = remainder of a%b, **GDF(1, 0) is called**. a= 1 and b = 0 i.e, (3/1=3 remainder is 0)\n",
        "7. GDF(1, 0) is called.\n",
        "8. Here, a = 1 and b = 0. It checks with if-else statement. Here, b == 0. it executes if statement. Here a value 1 is **returned** \n",
        "9. GDF(1, 0) = 1 is returned to GDF(3, 1)\n",
        "10. GDF(3, 1) = 1 is returned to GDF(43, 3)\n",
        "11. GDF(43, 3) = 1.\n",
        "12. 1 is returned to GDF(3, 43) \n",
        "Hence Output is **1**"
      ],
      "metadata": {
        "id": "P36OCwsoMMgI"
      }
    },
    {
      "cell_type": "code",
      "source": [],
      "metadata": {
        "id": "xpui_M7Xfr_h"
      },
      "execution_count": null,
      "outputs": []
    }
  ]
}